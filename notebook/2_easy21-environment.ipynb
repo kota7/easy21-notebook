{
 "cells": [
  {
   "cell_type": "markdown",
   "metadata": {},
   "source": [
    "# Construct *Easy21* Game Environment"
   ]
  },
  {
   "cell_type": "code",
   "execution_count": 1,
   "metadata": {},
   "outputs": [],
   "source": [
    "import random"
   ]
  },
  {
   "cell_type": "code",
   "execution_count": 2,
   "metadata": {},
   "outputs": [],
   "source": [
    "# CONSTANTS #\n",
    "PROB_RED = 1.0 / 3.0\n",
    "PROB_BLACK = 1.0 - PROB_RED\n",
    "DEALER_THRESHOLD = 17\n",
    "MINNUM = 1\n",
    "MAXNUM = 10\n",
    "BUST = 0\n",
    "\n",
    "# condictions for \"bust\"\n",
    "UPPER_BOUND = 21\n",
    "LOWER_BOUND = 1\n",
    "\n",
    "# rewards\n",
    "WIN = 1.0\n",
    "DRAW = 0.0\n",
    "LOSE = -1.0\n",
    "UNFINISH = 0.0\n",
    "\n",
    "# action alias\n",
    "STICK = 0\n",
    "HIT = 1"
   ]
  },
  {
   "cell_type": "code",
   "execution_count": 3,
   "metadata": {},
   "outputs": [],
   "source": [
    "def _draw():\n",
    "    if random.random() < PROB_RED:\n",
    "        return _draw_red()\n",
    "    else:\n",
    "        return _draw_black()\n",
    "\n",
    "def _draw_black():\n",
    "    return random.randint(MINNUM, MAXNUM)\n",
    "\n",
    "def _draw_red():\n",
    "    return -random.randint(MINNUM, MAXNUM)"
   ]
  },
  {
   "cell_type": "code",
   "execution_count": 4,
   "metadata": {},
   "outputs": [],
   "source": [
    "def _init():\n",
    "    player = _draw_black()\n",
    "    dealer = _draw_black()\n",
    "    return player, dealer"
   ]
  },
  {
   "cell_type": "code",
   "execution_count": 5,
   "metadata": {},
   "outputs": [],
   "source": [
    "def _bust(sum_):\n",
    "    return sum_ < LOWER_BOUND or sum_ > UPPER_BOUND\n",
    "    \n",
    "def _hit(state):\n",
    "    player, dealer = state\n",
    "    # draw new card\n",
    "    player += _draw()\n",
    "    if _bust(player):\n",
    "        reward = LOSE\n",
    "        player = BUST\n",
    "        done = True\n",
    "    else:\n",
    "        reward = UNFINISH\n",
    "        done = False\n",
    "    return (player, dealer), reward, done\n",
    "    \n",
    "def _stick(state):\n",
    "    player, dealer = state\n",
    "    # dealer draws\n",
    "    while dealer < DEALER_THRESHOLD:\n",
    "        dealer += _draw()\n",
    "        if _bust(dealer):\n",
    "            # player wins\n",
    "            dealer = BUST\n",
    "            return (player, dealer), WIN, True\n",
    "            \n",
    "    if player > dealer:\n",
    "        reward = WIN\n",
    "    elif player < dealer:\n",
    "        reward = LOSE\n",
    "    else:\n",
    "        reward = DRAW\n",
    "    return (player, dealer), reward, True"
   ]
  },
  {
   "cell_type": "code",
   "execution_count": 6,
   "metadata": {},
   "outputs": [],
   "source": [
    "class Easy21:\n",
    "    def __init__(self):\n",
    "        self.state = None\n",
    "        self.num_actions = 2\n",
    "        self.reset()\n",
    "        \n",
    "    def reset(self):\n",
    "        self.state = _init()\n",
    "        return self.state\n",
    "    \n",
    "    def step(self, action):\n",
    "        if action == HIT:\n",
    "            s, r, d = _hit(self.state)\n",
    "        else:\n",
    "            s, r, d = _stick(self.state)\n",
    "        self.state = s\n",
    "        return s, r, d, {}\n",
    "        \n",
    "    def render(self):\n",
    "        print(\"Player: %d, Dealer: %d\" % self.state)"
   ]
  },
  {
   "cell_type": "code",
   "execution_count": null,
   "metadata": {},
   "outputs": [],
   "source": []
  },
  {
   "cell_type": "code",
   "execution_count": 7,
   "metadata": {},
   "outputs": [],
   "source": [
    "## quick test\n",
    "env = Easy21()\n",
    "s = env.reset()\n",
    "assert s[0] >= MINNUM and s[1] >= MINNUM and s[0] <= MAXNUM and s[1] <= MAXNUM\n",
    "\n",
    "s, r, d, _ = env.step(HIT)\n",
    "assert s[0] == BUST or (s[0] >= LOWER_BOUND and s[0] <= UPPER_BOUND)\n",
    "assert (s[1] >= MINNUM and s[1] <= MAXNUM)\n",
    "assert r in [WIN, LOSE, UNFINISH, DRAW]\n",
    "assert d in [True, False]\n",
    "\n",
    "s, r, d, _ = env.step(STICK)\n",
    "assert s[0] == BUST or (s[0] >= LOWER_BOUND and s[0] <= UPPER_BOUND)\n",
    "assert s[1] == BUST or (s[1] >= LOWER_BOUND and s[1] <= UPPER_BOUND)\n",
    "assert r in [WIN, LOSE, UNFINISH, DRAW]\n",
    "assert d in [True, False]"
   ]
  },
  {
   "cell_type": "code",
   "execution_count": null,
   "metadata": {},
   "outputs": [],
   "source": []
  },
  {
   "cell_type": "code",
   "execution_count": 9,
   "metadata": {},
   "outputs": [
    {
     "name": "stdout",
     "output_type": "stream",
     "text": [
      "[NbConvertApp] Converting notebook 2_easy21-environment.ipynb to python\n",
      "[NbConvertApp] Writing 2886 bytes to easy21.py\n"
     ]
    }
   ],
   "source": [
    "# Export this notebook as a .py file and use by other notebooks.\n",
    "# if __name__ == '__main__' is a trick to skip the line when importing by other files\n",
    "if __name__ == '__main__':\n",
    "    !jupyter nbconvert 2_easy21-environment.ipynb --to=python --output=easy21.py"
   ]
  },
  {
   "cell_type": "code",
   "execution_count": null,
   "metadata": {},
   "outputs": [],
   "source": []
  }
 ],
 "metadata": {
  "kernelspec": {
   "display_name": "Python 3",
   "language": "python",
   "name": "python3"
  },
  "language_info": {
   "codemirror_mode": {
    "name": "ipython",
    "version": 3
   },
   "file_extension": ".py",
   "mimetype": "text/x-python",
   "name": "python",
   "nbconvert_exporter": "python",
   "pygments_lexer": "ipython3",
   "version": "3.6.6"
  }
 },
 "nbformat": 4,
 "nbformat_minor": 2
}
